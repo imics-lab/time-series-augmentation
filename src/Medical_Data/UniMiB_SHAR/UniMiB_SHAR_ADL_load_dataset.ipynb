{
 "cells": [
  {
   "cell_type": "markdown",
   "metadata": {
    "id": "Khc4g511HMYk"
   },
   "source": [
    "#UniMiB_SHAR_ADL_load_dataset.ipynb. \n",
    "Loads the A-9 (ADL) portion of the UniMiB dataset from the Internet repository and converts the data into numpy arrays while adhering to the general format of the [Keras MNIST load_data function](https://keras.io/api/datasets/mnist/#load_data-function).\n",
    "\n",
    "Arguments: tbd\n",
    "Returns: Tuple of Numpy arrays:   \n",
    "(x_train, y_train),(x_validation, y_validation)\\[optional\\],(x_test, y_test) \n",
    "\n",
    "* x_train\\/validation\\/test: containing float64 with shapes (num_samples, 151, {3,4,1})\n",
    "* y_train\\/validation\\/test: containing int8 with shapes (num_samples 0-9)\n",
    "\n",
    "The train/test split is by subject\n",
    "\n",
    "Example usage:  \n",
    "x_train, y_train, x_test, y_test = unimib_load_dataset()\n",
    "\n",
    "Additional References  \n",
    " If you use the dataset and/or code, please cite this paper (downloadable from [here](http://www.mdpi.com/2076-3417/7/10/1101/html))\n",
    "\n",
    "Developed and tested using colab.research.google.com  \n",
    "To save as .py version use File > Download .py\n",
    "\n",
    "Author:  Lee B. Hinkle, IMICS Lab, Texas State University, 2021\n",
    "\n",
    "<a rel=\"license\" href=\"http://creativecommons.org/licenses/by-sa/4.0/\"><img alt=\"Creative Commons License\" style=\"border-width:0\" src=\"https://i.creativecommons.org/l/by-sa/4.0/88x31.png\" /></a><br />This work is licensed under a <a rel=\"license\" href=\"http://creativecommons.org/licenses/by-sa/4.0/\">Creative Commons Attribution-ShareAlike 4.0 International License</a>.\n",
    "\n",
    "\n",
    "TODOs:\n",
    "* Fix document strings\n"
   ]
  },
  {
   "cell_type": "code",
   "execution_count": 1,
   "metadata": {
    "executionInfo": {
     "elapsed": 2611,
     "status": "ok",
     "timestamp": 1624479914870,
     "user": {
      "displayName": "Lee Hinkle",
      "photoUrl": "https://lh3.googleusercontent.com/a-/AOh14GgewSVTK-UUEEP0ihHQARBRqOb4YrK-IiepxHiI=s64",
      "userId": "00071704663307985880"
     },
     "user_tz": 300
    },
    "id": "q6H67o-YARCx"
   },
   "outputs": [
    {
     "name": "stderr",
     "output_type": "stream",
     "text": [
      "2024-02-02 21:58:18.595864: E external/local_xla/xla/stream_executor/cuda/cuda_dnn.cc:9261] Unable to register cuDNN factory: Attempting to register factory for plugin cuDNN when one has already been registered\n",
      "2024-02-02 21:58:18.595931: E external/local_xla/xla/stream_executor/cuda/cuda_fft.cc:607] Unable to register cuFFT factory: Attempting to register factory for plugin cuFFT when one has already been registered\n",
      "2024-02-02 21:58:18.598383: E external/local_xla/xla/stream_executor/cuda/cuda_blas.cc:1515] Unable to register cuBLAS factory: Attempting to register factory for plugin cuBLAS when one has already been registered\n",
      "2024-02-02 21:58:18.608149: I tensorflow/core/platform/cpu_feature_guard.cc:182] This TensorFlow binary is optimized to use available CPU instructions in performance-critical operations.\n",
      "To enable the following instructions: AVX2 FMA, in other operations, rebuild TensorFlow with the appropriate compiler flags.\n",
      "2024-02-02 21:58:19.354272: W tensorflow/compiler/tf2tensorrt/utils/py_utils.cc:38] TF-TRT Warning: Could not find TensorRT\n"
     ]
    }
   ],
   "source": [
    "import os\n",
    "import shutil #https://docs.python.org/3/library/shutil.html\n",
    "from shutil import unpack_archive # to unzip\n",
    "#from shutil import make_archive # to create zip for storage\n",
    "import requests #for downloading zip file\n",
    "from scipy import io #for loadmat, matlab conversion\n",
    "import pandas as pd\n",
    "import numpy as np\n",
    "#import matplotlib.pyplot as plt # for plotting - pandas uses matplotlib\n",
    "from tabulate import tabulate # for verbose tables\n",
    "from tensorflow.keras.utils import to_categorical # for one-hot encoding"
   ]
  },
  {
   "cell_type": "code",
   "execution_count": 2,
   "metadata": {
    "executionInfo": {
     "elapsed": 113,
     "status": "ok",
     "timestamp": 1624479917193,
     "user": {
      "displayName": "Lee Hinkle",
      "photoUrl": "https://lh3.googleusercontent.com/a-/AOh14GgewSVTK-UUEEP0ihHQARBRqOb4YrK-IiepxHiI=s64",
      "userId": "00071704663307985880"
     },
     "user_tz": 300
    },
    "id": "AaJNzu45Bi4j"
   },
   "outputs": [],
   "source": [
    "#credit https://stackoverflow.com/questions/9419162/download-returned-zip-file-from-url\n",
    "#many other methods I tried failed to download the file properly\n",
    "def download_url(url, save_path, chunk_size=128):\n",
    "    r = requests.get(url, stream=True)\n",
    "    with open(save_path, 'wb') as fd:\n",
    "        for chunk in r.iter_content(chunk_size=chunk_size):\n",
    "            fd.write(chunk)"
   ]
  },
  {
   "cell_type": "code",
   "execution_count": 3,
   "metadata": {
    "executionInfo": {
     "elapsed": 203,
     "status": "ok",
     "timestamp": 1624479920598,
     "user": {
      "displayName": "Lee Hinkle",
      "photoUrl": "https://lh3.googleusercontent.com/a-/AOh14GgewSVTK-UUEEP0ihHQARBRqOb4YrK-IiepxHiI=s64",
      "userId": "00071704663307985880"
     },
     "user_tz": 300
    },
    "id": "trfLorthy59i"
   },
   "outputs": [],
   "source": [
    "def unimib_load_dataset(\n",
    "    verbose = True,\n",
    "    incl_xyz_accel = False, #include component accel_x/y/z in ____X data\n",
    "    incl_rms_accel = True, #add rms value (total accel) of accel_x/y/z in ____X data\n",
    "    incl_val_group = False, #True => returns x/y_test, x/y_validation, x/y_train\n",
    "                           #False => combine test & validation groups\n",
    "    split_subj = dict\n",
    "                (train_subj = [4,5,6,7,8,10,11,12,14,15,19,20,21,22,24,26,27,29],\n",
    "                validation_subj = [1,9,16,23,25,28],\n",
    "                test_subj = [2,3,13,17,18,30]),\n",
    "    one_hot_encode = True):\n",
    "    #Download and unzip original dataset\n",
    "    if (not os.path.isfile('./UniMiB-SHAR.zip')):\n",
    "        print(\"Downloading UniMiB-SHAR.zip file\")\n",
    "        #invoking the shell command fails when exported to .py file\n",
    "        #redirect link https://www.dropbox.com/s/raw/x2fpfqj0bpf8ep6/UniMiB-SHAR.zip\n",
    "        #!wget https://www.dropbox.com/s/x2fpfqj0bpf8ep6/UniMiB-SHAR.zip\n",
    "        download_url('https://www.dropbox.com/s/raw/x2fpfqj0bpf8ep6/UniMiB-SHAR.zip','./UniMiB-SHAR.zip')\n",
    "    if (not os.path.isdir('./UniMiB-SHAR')):\n",
    "        shutil.unpack_archive('./UniMiB-SHAR.zip','.','zip')\n",
    "    #Convert .mat files to numpy ndarrays\n",
    "    path_in = './UniMiB-SHAR/data'\n",
    "    #loadmat loads matlab files as dictionary, keys: header, version, globals, data\n",
    "    adl_data = io.loadmat(path_in + '/adl_data.mat')['adl_data']\n",
    "    adl_names = io.loadmat(path_in + '/adl_names.mat', chars_as_strings=True)['adl_names']\n",
    "    adl_labels = io.loadmat(path_in + '/adl_labels.mat')['adl_labels']\n",
    "\n",
    "    if(verbose):\n",
    "        headers = (\"Raw data\",\"shape\", \"object type\", \"data type\")\n",
    "        mydata = [(\"adl_data:\", adl_data.shape, type(adl_data), adl_data.dtype),\n",
    "                (\"adl_labels:\", adl_labels.shape ,type(adl_labels), adl_labels.dtype),\n",
    "                (\"adl_names:\", adl_names.shape, type(adl_names), adl_names.dtype)]\n",
    "        print(tabulate(mydata, headers=headers))\n",
    "    #Reshape data and compute total (rms) acceleration\n",
    "    num_samples = 151 \n",
    "    #UniMiB SHAR has fixed size of 453 which is 151 accelX, 151 accely, 151 accelz\n",
    "    adl_data = np.reshape(adl_data,(-1,num_samples,3), order='F') #uses Fortran order\n",
    "    if (incl_rms_accel):\n",
    "        rms_accel = np.sqrt((adl_data[:,:,0]**2) + (adl_data[:,:,1]**2) + (adl_data[:,:,2]**2))\n",
    "        adl_data = np.dstack((adl_data,rms_accel))\n",
    "    #remove component accel if needed\n",
    "    if (not incl_xyz_accel):\n",
    "        adl_data = np.delete(adl_data, [0,1,2], 2)\n",
    "    if(verbose):\n",
    "        headers = (\"Reshaped data\",\"shape\", \"object type\", \"data type\")\n",
    "        mydata = [(\"adl_data:\", adl_data.shape, type(adl_data), adl_data.dtype),\n",
    "                (\"adl_labels:\", adl_labels.shape ,type(adl_labels), adl_labels.dtype),\n",
    "                (\"adl_names:\", adl_names.shape, type(adl_names), adl_names.dtype)]\n",
    "        print(tabulate(mydata, headers=headers))\n",
    "    #Split train/test sets, combine or make separate validation set\n",
    "    #ref for this numpy gymnastics - find index of matching subject to sub_train/sub_test/sub_validate\n",
    "    #https://numpy.org/doc/stable/reference/generated/numpy.isin.html\n",
    "\n",
    "\n",
    "    act_num = (adl_labels[:,0])-1 #matlab source was 1 indexed, change to 0 indexed\n",
    "    sub_num = (adl_labels[:,1]) #subject numbers are in column 1 of labels\n",
    "\n",
    "    if (not incl_val_group):\n",
    "        train_index = np.nonzero(np.isin(sub_num, split_subj['train_subj'] + \n",
    "                                        split_subj['validation_subj']))\n",
    "        x_train = adl_data[train_index]\n",
    "        y_train = act_num[train_index]\n",
    "    else:\n",
    "        train_index = np.nonzero(np.isin(sub_num, split_subj['train_subj']))\n",
    "        x_train = adl_data[train_index]\n",
    "        y_train = act_num[train_index]\n",
    "\n",
    "        validation_index = np.nonzero(np.isin(sub_num, split_subj['validation_subj']))\n",
    "        x_validation = adl_data[validation_index]\n",
    "        y_validation = act_num[validation_index]\n",
    "\n",
    "    test_index = np.nonzero(np.isin(sub_num, split_subj['test_subj']))\n",
    "    x_test = adl_data[test_index]\n",
    "    y_test = act_num[test_index]\n",
    "\n",
    "    if (verbose):\n",
    "        print(\"x/y_train shape \",x_train.shape,y_train.shape)\n",
    "        if (incl_val_group):\n",
    "            print(\"x/y_validation shape \",x_validation.shape,y_validation.shape)\n",
    "        print(\"x/y_test shape  \",x_test.shape,y_test.shape)\n",
    "    #If selected one-hot encode y_* using keras to_categorical, reference:\n",
    "    #https://keras.io/api/utils/python_utils/#to_categorical-function and\n",
    "    #https://machinelearningmastery.com/how-to-one-hot-encode-sequence-data-in-python/\n",
    "    if (one_hot_encode):\n",
    "        y_train = to_categorical(y_train, num_classes=9)\n",
    "        if (incl_val_group):\n",
    "            y_validation = to_categorical(y_validation, num_classes=9)\n",
    "        y_test = to_categorical(y_test, num_classes=9)\n",
    "        if (verbose):\n",
    "            print(\"After one-hot encoding\")\n",
    "            print(\"x/y_train shape \",x_train.shape,y_train.shape)\n",
    "            if (incl_val_group):\n",
    "                print(\"x/y_validation shape \",x_validation.shape,y_validation.shape)\n",
    "            print(\"x/y_test shape  \",x_test.shape,y_test.shape)\n",
    "    if (incl_val_group):\n",
    "        return x_train, y_train, x_validation, y_validation, x_test, y_test\n",
    "    else:\n",
    "        return x_train, y_train, x_test, y_test"
   ]
  },
  {
   "cell_type": "code",
   "execution_count": 4,
   "metadata": {
    "colab": {
     "base_uri": "https://localhost:8080/"
    },
    "executionInfo": {
     "elapsed": 349,
     "status": "ok",
     "timestamp": 1624480560784,
     "user": {
      "displayName": "Lee Hinkle",
      "photoUrl": "https://lh3.googleusercontent.com/a-/AOh14GgewSVTK-UUEEP0ihHQARBRqOb4YrK-IiepxHiI=s64",
      "userId": "00071704663307985880"
     },
     "user_tz": 300
    },
    "id": "caytRhXfhkU1",
    "outputId": "052a2c18-ad95-4891-a146-0fbbafc6f79a"
   },
   "outputs": [
    {
     "name": "stdout",
     "output_type": "stream",
     "text": [
      "Downloading and processing UniMiB SHAR dataset, ADL Portion\n",
      "Raw data     shape        object type              data type\n",
      "-----------  -----------  -----------------------  -----------\n",
      "adl_data:    (7579, 453)  <class 'numpy.ndarray'>  float64\n",
      "adl_labels:  (7579, 3)    <class 'numpy.ndarray'>  uint8\n",
      "adl_names:   (9, 1)       <class 'numpy.ndarray'>  object\n",
      "Reshaped data    shape           object type              data type\n",
      "---------------  --------------  -----------------------  -----------\n",
      "adl_data:        (7579, 151, 1)  <class 'numpy.ndarray'>  float64\n",
      "adl_labels:      (7579, 3)       <class 'numpy.ndarray'>  uint8\n",
      "adl_names:       (9, 1)          <class 'numpy.ndarray'>  object\n",
      "x/y_train shape  (4601, 151, 1) (4601,)\n",
      "x/y_validation shape  (1454, 151, 1) (1454,)\n",
      "x/y_test shape   (1524, 151, 1) (1524,)\n",
      "After one-hot encoding\n",
      "x/y_train shape  (4601, 151, 1) (4601, 9)\n",
      "x/y_validation shape  (1454, 151, 1) (1454, 9)\n",
      "x/y_test shape   (1524, 151, 1) (1524, 9)\n",
      "\n",
      "UniMiB SHAR returned arrays:\n",
      "x_train shape  (4601, 151, 1)  y_train shape  (4601, 9)\n",
      "x_validation shape  (1454, 151, 1)  y_validation shape  (1454, 9)\n",
      "x_test shape   (1524, 151, 1)  y_test shape   (1524, 9)\n"
     ]
    }
   ],
   "source": [
    "if __name__ == \"__main__\":\n",
    "    print(\"Downloading and processing UniMiB SHAR dataset, ADL Portion\")\n",
    "    x_train, y_train, x_validation, y_validation, x_test, y_test = unimib_load_dataset(incl_val_group=True)\n",
    "    print(\"\\nUniMiB SHAR returned arrays:\")\n",
    "    print(\"x_train shape \",x_train.shape,\" y_train shape \", y_train.shape)\n",
    "    print(\"x_validation shape \",x_validation.shape,\" y_validation shape \", y_validation.shape)\n",
    "    print(\"x_test shape  \",x_test.shape,\" y_test shape  \",y_test.shape)"
   ]
  },
  {
   "cell_type": "code",
   "execution_count": 5,
   "metadata": {},
   "outputs": [],
   "source": [
    "from tsai.models.utils import *\n",
    "from tsai.basics import *\n",
    "from tsai.inference import load_learner\n",
    "from sklearn.metrics import accuracy_score, classification_report\n",
    "from sklearn.model_selection import train_test_split"
   ]
  },
  {
   "cell_type": "code",
   "execution_count": 30,
   "metadata": {},
   "outputs": [],
   "source": [
    "def train_model(x_train, y_train):\n",
    "    tfms = [None, TSClassification()]\n",
    "    batch_tfms = TSStandardize(by_sample=True)\n",
    "    mv_clf = TSClassifier(x_train, y_train, path='models', arch=\"LSTM_FCNPlus\", tfms=tfms, batch_tfms=batch_tfms, metrics=accuracy, cbs=ShowGraph())\n",
    "    mv_clf.fit_one_cycle(10, 1e-2)\n",
    "    #mv_clf.export(\"mv_clf_cnn_test.pkl\")\n",
    "    return mv_clf\n",
    "\n",
    "def run_model(x_test, mv_clf):\n",
    "    #mv_clf = load_learner(\"models/mv_clf_cnn_test.pkl\")\n",
    "    probas, target, preds = mv_clf.get_X_preds(x_test, y_test)\n",
    "    preds_labels = np.argmax(preds, axis=1)\n",
    "    target_labels = np.argmax(target, axis=-1) # undo one-hot encoding\n",
    "    return preds_labels, target_labels"
   ]
  },
  {
   "cell_type": "code",
   "execution_count": 31,
   "metadata": {
    "scrolled": true
   },
   "outputs": [
    {
     "data": {
      "text/html": [
       "\n",
       "<style>\n",
       "    /* Turns off some styling */\n",
       "    progress {\n",
       "        /* gets rid of default border in Firefox and Opera. */\n",
       "        border: none;\n",
       "        /* Needs to be in here for Safari polyfill so background images work as expected. */\n",
       "        background-size: auto;\n",
       "    }\n",
       "    progress:not([value]), progress:not([value])::-webkit-progress-bar {\n",
       "        background: repeating-linear-gradient(45deg, #7e7e7e, #7e7e7e 10px, #5c5c5c 10px, #5c5c5c 20px);\n",
       "    }\n",
       "    .progress-bar-interrupted, .progress-bar-interrupted::-webkit-progress-bar {\n",
       "        background: #F44336;\n",
       "    }\n",
       "</style>\n"
      ],
      "text/plain": [
       "<IPython.core.display.HTML object>"
      ]
     },
     "metadata": {},
     "output_type": "display_data"
    },
    {
     "data": {
      "text/html": [
       "<table border=\"1\" class=\"dataframe\">\n",
       "  <thead>\n",
       "    <tr style=\"text-align: left;\">\n",
       "      <th>epoch</th>\n",
       "      <th>train_loss</th>\n",
       "      <th>accuracy</th>\n",
       "      <th>time</th>\n",
       "    </tr>\n",
       "  </thead>\n",
       "  <tbody>\n",
       "    <tr>\n",
       "      <td>0</td>\n",
       "      <td>0.250739</td>\n",
       "      <td>00:01</td>\n",
       "    </tr>\n",
       "    <tr>\n",
       "      <td>1</td>\n",
       "      <td>0.145562</td>\n",
       "      <td>00:02</td>\n",
       "    </tr>\n",
       "    <tr>\n",
       "      <td>2</td>\n",
       "      <td>0.107297</td>\n",
       "      <td>00:01</td>\n",
       "    </tr>\n",
       "    <tr>\n",
       "      <td>3</td>\n",
       "      <td>0.083673</td>\n",
       "      <td>00:01</td>\n",
       "    </tr>\n",
       "    <tr>\n",
       "      <td>4</td>\n",
       "      <td>0.062791</td>\n",
       "      <td>00:01</td>\n",
       "    </tr>\n",
       "    <tr>\n",
       "      <td>5</td>\n",
       "      <td>0.049643</td>\n",
       "      <td>00:01</td>\n",
       "    </tr>\n",
       "    <tr>\n",
       "      <td>6</td>\n",
       "      <td>0.033269</td>\n",
       "      <td>00:01</td>\n",
       "    </tr>\n",
       "    <tr>\n",
       "      <td>7</td>\n",
       "      <td>0.022221</td>\n",
       "      <td>00:02</td>\n",
       "    </tr>\n",
       "    <tr>\n",
       "      <td>8</td>\n",
       "      <td>0.013419</td>\n",
       "      <td>00:01</td>\n",
       "    </tr>\n",
       "    <tr>\n",
       "      <td>9</td>\n",
       "      <td>0.009842</td>\n",
       "      <td>00:02</td>\n",
       "    </tr>\n",
       "  </tbody>\n",
       "</table>"
      ],
      "text/plain": [
       "<IPython.core.display.HTML object>"
      ]
     },
     "metadata": {},
     "output_type": "display_data"
    },
    {
     "data": {
      "image/png": "[encoded data removed]",
      "text/plain": [
       "<Figure size 600x400 with 1 Axes>"
      ]
     },
     "metadata": {},
     "output_type": "display_data"
    },
    {
     "data": {
      "image/png": "[encoded data removed]",
      "text/plain": [
       "<Figure size 1300x400 with 2 Axes>"
      ]
     },
     "metadata": {},
     "output_type": "display_data"
    },
    {
     "data": {
      "text/html": [
       "\n",
       "<style>\n",
       "    /* Turns off some styling */\n",
       "    progress {\n",
       "        /* gets rid of default border in Firefox and Opera. */\n",
       "        border: none;\n",
       "        /* Needs to be in here for Safari polyfill so background images work as expected. */\n",
       "        background-size: auto;\n",
       "    }\n",
       "    progress:not([value]), progress:not([value])::-webkit-progress-bar {\n",
       "        background: repeating-linear-gradient(45deg, #7e7e7e, #7e7e7e 10px, #5c5c5c 10px, #5c5c5c 20px);\n",
       "    }\n",
       "    .progress-bar-interrupted, .progress-bar-interrupted::-webkit-progress-bar {\n",
       "        background: #F44336;\n",
       "    }\n",
       "</style>\n"
      ],
      "text/plain": [
       "<IPython.core.display.HTML object>"
      ]
     },
     "metadata": {},
     "output_type": "display_data"
    },
    {
     "data": {
      "text/html": [],
      "text/plain": [
       "<IPython.core.display.HTML object>"
      ]
     },
     "metadata": {},
     "output_type": "display_data"
    }
   ],
   "source": [
    "mv_clf = train_model(x_train, y_train)\n",
    "preds_labels, target_labels = run_model(x_test, mv_clf)"
   ]
  },
  {
   "cell_type": "code",
   "execution_count": 32,
   "metadata": {},
   "outputs": [
    {
     "name": "stdout",
     "output_type": "stream",
     "text": [
      "Prediction accuracy: 0.883\n"
     ]
    }
   ],
   "source": [
    "print('Prediction accuracy: {0:.3f}'.format(accuracy_score(target_labels, preds_labels)))"
   ]
  },
  {
   "cell_type": "code",
   "execution_count": null,
   "metadata": {},
   "outputs": [],
   "source": []
  }
 ],
 "metadata": {
  "colab": {
   "authorship_tag": "ABX9TyN+N/2vFCJ2u8nE2FMe422/",
   "collapsed_sections": [],
   "mount_file_id": "1nSxH9wf4dPT4591KemHD58niRIXJ0nBW",
   "name": "UniMiB_SHAR_ADL_load_dataset.ipynb",
   "provenance": []
  },
  "kernelspec": {
   "display_name": "Python 3 (ipykernel)",
   "language": "python",
   "name": "python3"
  },
  "language_info": {
   "codemirror_mode": {
    "name": "ipython",
    "version": 3
   },
   "file_extension": ".py",
   "mimetype": "text/x-python",
   "name": "python",
   "nbconvert_exporter": "python",
   "pygments_lexer": "ipython3",
   "version": "3.10.10"
  }
 },
 "nbformat": 4,
 "nbformat_minor": 4
}
